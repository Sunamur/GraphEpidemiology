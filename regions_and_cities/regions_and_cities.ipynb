{
 "cells": [
  {
   "cell_type": "code",
   "execution_count": 1,
   "metadata": {},
   "outputs": [],
   "source": [
    "import pandas as pd\n",
    "from scipy.spatial import distance_matrix"
   ]
  },
  {
   "cell_type": "markdown",
   "metadata": {},
   "source": [
    "## Загрузка данных:"
   ]
  },
  {
   "cell_type": "code",
   "execution_count": 2,
   "metadata": {},
   "outputs": [
    {
     "output_type": "execute_result",
     "data": {
      "text/plain": "            date                   reg  conf  recov  deaths  deaths_day  \\\n0     02.03.2020            Московская     1      0       0           0   \n1     03.03.2020            Московская     1      0       0           0   \n2     04.03.2020            Московская     1      0       0           0   \n3     05.03.2020            Московская     1      0       0           0   \n4     06.03.2020                Москва     5      0       0           0   \n...          ...                   ...   ...    ...     ...         ...   \n6903  31.05.2020             Чеченская  1227    828      13           0   \n6904  31.05.2020  Чувашская Республика  2885   1242      14           0   \n6905  31.05.2020             Чукотский    80     54       1           0   \n6906  31.05.2020        Ямало-Ненецкий  2375    975       9           0   \n6907  31.05.2020           Ярославская  3132    756      14           0   \n\n      conf_day  recov_day  \n0            1          0  \n1            0          0  \n2            0          0  \n3            0          0  \n4            5          0  \n...        ...        ...  \n6903        18          3  \n6904        87         30  \n6905         2          1  \n6906        65         22  \n6907        77          5  \n\n[6908 rows x 8 columns]",
      "text/html": "<div>\n<style scoped>\n    .dataframe tbody tr th:only-of-type {\n        vertical-align: middle;\n    }\n\n    .dataframe tbody tr th {\n        vertical-align: top;\n    }\n\n    .dataframe thead th {\n        text-align: right;\n    }\n</style>\n<table border=\"1\" class=\"dataframe\">\n  <thead>\n    <tr style=\"text-align: right;\">\n      <th></th>\n      <th>date</th>\n      <th>reg</th>\n      <th>conf</th>\n      <th>recov</th>\n      <th>deaths</th>\n      <th>deaths_day</th>\n      <th>conf_day</th>\n      <th>recov_day</th>\n    </tr>\n  </thead>\n  <tbody>\n    <tr>\n      <th>0</th>\n      <td>02.03.2020</td>\n      <td>Московская</td>\n      <td>1</td>\n      <td>0</td>\n      <td>0</td>\n      <td>0</td>\n      <td>1</td>\n      <td>0</td>\n    </tr>\n    <tr>\n      <th>1</th>\n      <td>03.03.2020</td>\n      <td>Московская</td>\n      <td>1</td>\n      <td>0</td>\n      <td>0</td>\n      <td>0</td>\n      <td>0</td>\n      <td>0</td>\n    </tr>\n    <tr>\n      <th>2</th>\n      <td>04.03.2020</td>\n      <td>Московская</td>\n      <td>1</td>\n      <td>0</td>\n      <td>0</td>\n      <td>0</td>\n      <td>0</td>\n      <td>0</td>\n    </tr>\n    <tr>\n      <th>3</th>\n      <td>05.03.2020</td>\n      <td>Московская</td>\n      <td>1</td>\n      <td>0</td>\n      <td>0</td>\n      <td>0</td>\n      <td>0</td>\n      <td>0</td>\n    </tr>\n    <tr>\n      <th>4</th>\n      <td>06.03.2020</td>\n      <td>Москва</td>\n      <td>5</td>\n      <td>0</td>\n      <td>0</td>\n      <td>0</td>\n      <td>5</td>\n      <td>0</td>\n    </tr>\n    <tr>\n      <th>...</th>\n      <td>...</td>\n      <td>...</td>\n      <td>...</td>\n      <td>...</td>\n      <td>...</td>\n      <td>...</td>\n      <td>...</td>\n      <td>...</td>\n    </tr>\n    <tr>\n      <th>6903</th>\n      <td>31.05.2020</td>\n      <td>Чеченская</td>\n      <td>1227</td>\n      <td>828</td>\n      <td>13</td>\n      <td>0</td>\n      <td>18</td>\n      <td>3</td>\n    </tr>\n    <tr>\n      <th>6904</th>\n      <td>31.05.2020</td>\n      <td>Чувашская Республика</td>\n      <td>2885</td>\n      <td>1242</td>\n      <td>14</td>\n      <td>0</td>\n      <td>87</td>\n      <td>30</td>\n    </tr>\n    <tr>\n      <th>6905</th>\n      <td>31.05.2020</td>\n      <td>Чукотский</td>\n      <td>80</td>\n      <td>54</td>\n      <td>1</td>\n      <td>0</td>\n      <td>2</td>\n      <td>1</td>\n    </tr>\n    <tr>\n      <th>6906</th>\n      <td>31.05.2020</td>\n      <td>Ямало-Ненецкий</td>\n      <td>2375</td>\n      <td>975</td>\n      <td>9</td>\n      <td>0</td>\n      <td>65</td>\n      <td>22</td>\n    </tr>\n    <tr>\n      <th>6907</th>\n      <td>31.05.2020</td>\n      <td>Ярославская</td>\n      <td>3132</td>\n      <td>756</td>\n      <td>14</td>\n      <td>0</td>\n      <td>77</td>\n      <td>5</td>\n    </tr>\n  </tbody>\n</table>\n<p>6908 rows × 8 columns</p>\n</div>"
     },
     "metadata": {},
     "execution_count": 2
    }
   ],
   "source": [
    "# Грузим датасет с данными о распространении вируса\n",
    "df_covid = pd.read_csv('Regions.csv', sep=';')\n",
    "df_covid.columns = ['date', 'reg', 'conf', 'recov', 'deaths', 'deaths_day', 'conf_day', 'recov_day']\n",
    "\n",
    "# Меняем названия регионов которые не сходятся с названиями в другом датасете\n",
    "df_covid = df_covid.replace(['Кабардино-Балкария', 'Карачаево-Черкессия', 'Саха (Якутия)', 'Северная Осетия', 'Удмуртия', 'ХМАО – Югра', 'Чечня', 'Чувашия'],\\\n",
    "           ['Кабардино-Балкарская', 'Карачаево-Черкесская', 'Саха /Якутия/', 'Северная Осетия - Алания', 'Удмуртская', 'Ханты-Мансийский Автономный округ - Югра', 'Чеченская', 'Чувашская Республика'])\n",
    "\n",
    "# Обрезаем \"край\", \"обл.\" и \"АО\"\n",
    "df_covid.reg = df_covid.reg.apply(lambda x: x.split('край',1)[0].split('обл.', 1)[0].split('АО', 1)[0].rstrip())\n",
    "df_covid"
   ]
  },
  {
   "cell_type": "code",
   "execution_count": 3,
   "metadata": {},
   "outputs": [],
   "source": [
    "# Грузим датасет с геоданными\n",
    "df_cities = pd.read_csv('tableconvert_csv_7t1xix.csv')\n",
    "df_cities = df_cities[['Тип региона', 'Регион', 'Город', 'Широта', 'Долгота', 'Федеральный округ', 'Население']]\n",
    "df_cities.columns = ['reg_type', 'reg', 'city', 'lat', 'long', 'fed_reg', 'population']"
   ]
  },
  {
   "cell_type": "code",
   "execution_count": 4,
   "metadata": {},
   "outputs": [],
   "source": [
    "# Список региональных центров (столиц)\n",
    "reg_centres = ['Красногорск', 'Всеволожск', 'Майкоп', 'Горно-Алтайск', 'Барнаул', 'Архангельск', 'Астрахань', 'Уфа', 'Белгород', 'Брянск', 'Улан-Удэ', 'Владимир', 'Волгоград', 'Вологда', 'Воронеж', 'Махачкала', 'Биробиджан', 'Чита', 'Иваново', 'Магас', 'Иркутск', 'Нальчик', 'Калининград', 'Элиста', 'Калуга', 'Петропавловск-Камчатский', 'Черкесск', 'Петрозаводск', 'Кемерово', 'Сыктывкар', 'Кострома', 'Краснодар', 'Красноярск', 'Симферополь', 'Курган', 'Курск', 'Санкт-Петербург', 'Липецк', 'Магадан', 'Йошкар-Ола', 'Саранск', 'Москва', 'Мурманск', 'Нарьян-Мар', 'Нижний Новгород', 'Великий Новгород', 'Новосибирск', 'Омск', 'Оренбург', 'Орёл', 'Пенза', 'Пермь', 'Владивосток', 'Псков', 'Ростов-на-Дону', 'Рязань', 'Самара', 'Санкт-Петербург', 'Саратов', 'Якутск', 'Южно-Сахалинск', 'Екатеринбург', 'Севастополь', 'Владикавказ', 'Смоленск', 'Ставрополь', 'Тамбов', 'Казань', 'Тверь', 'Томск', 'Тула', 'Кызыл', 'Тюмень', 'Ижевск', 'Ульяновск', 'Хабаровск', 'Абакан', 'Ханты-Мансийск', 'Челябинск', 'Грозный', 'Чебоксары', 'Анадырь', 'Салехард', 'Ярославль']"
   ]
  },
  {
   "cell_type": "code",
   "execution_count": 5,
   "metadata": {},
   "outputs": [],
   "source": [
    "# Маркируем столицы субъектов единичкой в столбце is_centre\n",
    "df_cities['is_centre'] = df_cities['city'].apply(lambda x: 1 if x in reg_centres else 0)\n",
    "\n",
    "# Севастополь, Москву и Питер хардкодим\n",
    "big_cities_indexes = df_cities[df_cities['city'].isna() & ((df_cities['reg'] == 'Севастополь') | \\\n",
    "                                                           (df_cities['reg'] == 'Москва') | \\\n",
    "                                                           (df_cities['reg'] == 'Санкт-Петербург'))].index\n",
    "df_cities.loc[big_cities_indexes, 'is_centre'] = 1\n",
    "\n",
    "df_cities.loc[df_cities[df_cities['reg'] == 'Севастополь'].index, 'city'] = 'Севастополь'\n",
    "df_cities.loc[df_cities[df_cities['reg'] == 'Москва'].index, 'city'] = 'Москва'\n",
    "df_cities.loc[df_cities[df_cities['reg'] == 'Санкт-Петербург'].index, 'city'] = 'Санкт-Петербург'\n",
    "\n",
    "# Здесь, в силу того что есть два г. Киров и два г. Благовещенск в разных субъектах, тоже приходится хардкодить\n",
    "small_cities_indexes = df_cities[((df_cities['city'] == 'Киров') & (df_cities['reg'] == 'Кировская')) |\\\n",
    "                                 ((df_cities['city'] == 'Благовещенск') & (df_cities['reg'] == 'Амурская'))].index\n",
    "df_cities.loc[small_cities_indexes, 'is_centre'] = 1\n",
    "\n",
    "# И с Чечней и Адлером какой то баг приходится поправить:\n",
    "df_cities.loc[df_cities[df_cities['city'].isna() & (df_cities['reg'] == 'Чеченская')].index, 'city'] = 'Урус-Мартан'\n",
    "adler = pd.DataFrame([['край', 'Краснодарский', 'Адлер', 43.438166, 39.911178, 'Южный', 111600, 0]])\n",
    "adler.columns = df_cities.columns\n",
    "adler.index = [len(df_cities)]\n",
    "df_cities = df_cities.append(adler)\n",
    "\n",
    "# Отдельный датасет только со столицами субъектов\n",
    "df_cities_centres = df_cities[df_cities.is_centre == 1]\n",
    "df_cities_centres.index = range(len(df_cities_centres))"
   ]
  },
  {
   "cell_type": "markdown",
   "metadata": {},
   "source": [
    "## Список всех городов:"
   ]
  },
  {
   "cell_type": "code",
   "execution_count": 6,
   "metadata": {},
   "outputs": [
    {
     "output_type": "execute_result",
     "data": {
      "text/plain": "     reg_type            reg           city        lat       long  \\\n0        Респ         Адыгея       Адыгейск  44.878372  39.190172   \n1        Респ         Адыгея         Майкоп  44.609827  40.100653   \n2        Респ          Алтай  Горно-Алтайск  51.958268  85.960296   \n3        край      Алтайский         Алейск  52.492091  82.779415   \n4        край      Алтайский        Барнаул  53.348115  83.779836   \n...       ...            ...            ...        ...        ...   \n1108      обл    Ярославская        Рыбинск  58.048380  38.858338   \n1109      обл    Ярославская         Тутаев  57.867424  39.536823   \n1110      обл    Ярославская          Углич  57.522387  38.301979   \n1111      обл    Ярославская      Ярославль  57.621614  39.897878   \n1112     край  Краснодарский          Адлер  43.438166  39.911178   \n\n          fed_reg population  is_centre  \n0           Южный      12689          0  \n1           Южный     144055          1  \n2       Сибирский      62861          1  \n3       Сибирский      28528          0  \n4       Сибирский     635585          1  \n...           ...        ...        ...  \n1108  Центральный     200771          0  \n1109  Центральный      41001          0  \n1110  Центральный      34505          0  \n1111  Центральный     591486          1  \n1112        Южный     111600          0  \n\n[1113 rows x 8 columns]",
      "text/html": "<div>\n<style scoped>\n    .dataframe tbody tr th:only-of-type {\n        vertical-align: middle;\n    }\n\n    .dataframe tbody tr th {\n        vertical-align: top;\n    }\n\n    .dataframe thead th {\n        text-align: right;\n    }\n</style>\n<table border=\"1\" class=\"dataframe\">\n  <thead>\n    <tr style=\"text-align: right;\">\n      <th></th>\n      <th>reg_type</th>\n      <th>reg</th>\n      <th>city</th>\n      <th>lat</th>\n      <th>long</th>\n      <th>fed_reg</th>\n      <th>population</th>\n      <th>is_centre</th>\n    </tr>\n  </thead>\n  <tbody>\n    <tr>\n      <th>0</th>\n      <td>Респ</td>\n      <td>Адыгея</td>\n      <td>Адыгейск</td>\n      <td>44.878372</td>\n      <td>39.190172</td>\n      <td>Южный</td>\n      <td>12689</td>\n      <td>0</td>\n    </tr>\n    <tr>\n      <th>1</th>\n      <td>Респ</td>\n      <td>Адыгея</td>\n      <td>Майкоп</td>\n      <td>44.609827</td>\n      <td>40.100653</td>\n      <td>Южный</td>\n      <td>144055</td>\n      <td>1</td>\n    </tr>\n    <tr>\n      <th>2</th>\n      <td>Респ</td>\n      <td>Алтай</td>\n      <td>Горно-Алтайск</td>\n      <td>51.958268</td>\n      <td>85.960296</td>\n      <td>Сибирский</td>\n      <td>62861</td>\n      <td>1</td>\n    </tr>\n    <tr>\n      <th>3</th>\n      <td>край</td>\n      <td>Алтайский</td>\n      <td>Алейск</td>\n      <td>52.492091</td>\n      <td>82.779415</td>\n      <td>Сибирский</td>\n      <td>28528</td>\n      <td>0</td>\n    </tr>\n    <tr>\n      <th>4</th>\n      <td>край</td>\n      <td>Алтайский</td>\n      <td>Барнаул</td>\n      <td>53.348115</td>\n      <td>83.779836</td>\n      <td>Сибирский</td>\n      <td>635585</td>\n      <td>1</td>\n    </tr>\n    <tr>\n      <th>...</th>\n      <td>...</td>\n      <td>...</td>\n      <td>...</td>\n      <td>...</td>\n      <td>...</td>\n      <td>...</td>\n      <td>...</td>\n      <td>...</td>\n    </tr>\n    <tr>\n      <th>1108</th>\n      <td>обл</td>\n      <td>Ярославская</td>\n      <td>Рыбинск</td>\n      <td>58.048380</td>\n      <td>38.858338</td>\n      <td>Центральный</td>\n      <td>200771</td>\n      <td>0</td>\n    </tr>\n    <tr>\n      <th>1109</th>\n      <td>обл</td>\n      <td>Ярославская</td>\n      <td>Тутаев</td>\n      <td>57.867424</td>\n      <td>39.536823</td>\n      <td>Центральный</td>\n      <td>41001</td>\n      <td>0</td>\n    </tr>\n    <tr>\n      <th>1110</th>\n      <td>обл</td>\n      <td>Ярославская</td>\n      <td>Углич</td>\n      <td>57.522387</td>\n      <td>38.301979</td>\n      <td>Центральный</td>\n      <td>34505</td>\n      <td>0</td>\n    </tr>\n    <tr>\n      <th>1111</th>\n      <td>обл</td>\n      <td>Ярославская</td>\n      <td>Ярославль</td>\n      <td>57.621614</td>\n      <td>39.897878</td>\n      <td>Центральный</td>\n      <td>591486</td>\n      <td>1</td>\n    </tr>\n    <tr>\n      <th>1112</th>\n      <td>край</td>\n      <td>Краснодарский</td>\n      <td>Адлер</td>\n      <td>43.438166</td>\n      <td>39.911178</td>\n      <td>Южный</td>\n      <td>111600</td>\n      <td>0</td>\n    </tr>\n  </tbody>\n</table>\n<p>1113 rows × 8 columns</p>\n</div>"
     },
     "metadata": {},
     "execution_count": 6
    }
   ],
   "source": [
    "df_cities"
   ]
  },
  {
   "cell_type": "markdown",
   "metadata": {},
   "source": [
    "## Список только столиц субъектов:"
   ]
  },
  {
   "cell_type": "code",
   "execution_count": 7,
   "metadata": {},
   "outputs": [
    {
     "output_type": "execute_result",
     "data": {
      "text/plain": "   reg_type                   reg           city        lat        long  \\\n0      Респ                Адыгея         Майкоп  44.609827   40.100653   \n1      Респ                 Алтай  Горно-Алтайск  51.958268   85.960296   \n2      край             Алтайский        Барнаул  53.348115   83.779836   \n3       обл              Амурская   Благовещенск  50.290593  127.527219   \n4       обл         Архангельская    Архангельск  64.539299   40.517008   \n..      ...                   ...            ...        ...         ...   \n80  Чувашия  Чувашская Республика      Чебоксары  56.143938   47.248872   \n81       АО             Чукотский        Анадырь  64.731435  177.501575   \n82     Респ         Саха /Якутия/         Якутск  62.028027  129.732572   \n83       АО        Ямало-Ненецкий       Салехард  66.549357   66.608399   \n84      обл           Ярославская      Ярославль  57.621614   39.897878   \n\n            fed_reg population  is_centre  \n0             Южный     144055          1  \n1         Сибирский      62861          1  \n2         Сибирский     635585          1  \n3   Дальневосточный     214397          1  \n4   Северо-Западный     348716          1  \n..              ...        ...        ...  \n80      Приволжский     447929          1  \n81  Дальневосточный      13053          1  \n82  Дальневосточный     269486          1  \n83        Уральский      42494          1  \n84      Центральный     591486          1  \n\n[85 rows x 8 columns]",
      "text/html": "<div>\n<style scoped>\n    .dataframe tbody tr th:only-of-type {\n        vertical-align: middle;\n    }\n\n    .dataframe tbody tr th {\n        vertical-align: top;\n    }\n\n    .dataframe thead th {\n        text-align: right;\n    }\n</style>\n<table border=\"1\" class=\"dataframe\">\n  <thead>\n    <tr style=\"text-align: right;\">\n      <th></th>\n      <th>reg_type</th>\n      <th>reg</th>\n      <th>city</th>\n      <th>lat</th>\n      <th>long</th>\n      <th>fed_reg</th>\n      <th>population</th>\n      <th>is_centre</th>\n    </tr>\n  </thead>\n  <tbody>\n    <tr>\n      <th>0</th>\n      <td>Респ</td>\n      <td>Адыгея</td>\n      <td>Майкоп</td>\n      <td>44.609827</td>\n      <td>40.100653</td>\n      <td>Южный</td>\n      <td>144055</td>\n      <td>1</td>\n    </tr>\n    <tr>\n      <th>1</th>\n      <td>Респ</td>\n      <td>Алтай</td>\n      <td>Горно-Алтайск</td>\n      <td>51.958268</td>\n      <td>85.960296</td>\n      <td>Сибирский</td>\n      <td>62861</td>\n      <td>1</td>\n    </tr>\n    <tr>\n      <th>2</th>\n      <td>край</td>\n      <td>Алтайский</td>\n      <td>Барнаул</td>\n      <td>53.348115</td>\n      <td>83.779836</td>\n      <td>Сибирский</td>\n      <td>635585</td>\n      <td>1</td>\n    </tr>\n    <tr>\n      <th>3</th>\n      <td>обл</td>\n      <td>Амурская</td>\n      <td>Благовещенск</td>\n      <td>50.290593</td>\n      <td>127.527219</td>\n      <td>Дальневосточный</td>\n      <td>214397</td>\n      <td>1</td>\n    </tr>\n    <tr>\n      <th>4</th>\n      <td>обл</td>\n      <td>Архангельская</td>\n      <td>Архангельск</td>\n      <td>64.539299</td>\n      <td>40.517008</td>\n      <td>Северо-Западный</td>\n      <td>348716</td>\n      <td>1</td>\n    </tr>\n    <tr>\n      <th>...</th>\n      <td>...</td>\n      <td>...</td>\n      <td>...</td>\n      <td>...</td>\n      <td>...</td>\n      <td>...</td>\n      <td>...</td>\n      <td>...</td>\n    </tr>\n    <tr>\n      <th>80</th>\n      <td>Чувашия</td>\n      <td>Чувашская Республика</td>\n      <td>Чебоксары</td>\n      <td>56.143938</td>\n      <td>47.248872</td>\n      <td>Приволжский</td>\n      <td>447929</td>\n      <td>1</td>\n    </tr>\n    <tr>\n      <th>81</th>\n      <td>АО</td>\n      <td>Чукотский</td>\n      <td>Анадырь</td>\n      <td>64.731435</td>\n      <td>177.501575</td>\n      <td>Дальневосточный</td>\n      <td>13053</td>\n      <td>1</td>\n    </tr>\n    <tr>\n      <th>82</th>\n      <td>Респ</td>\n      <td>Саха /Якутия/</td>\n      <td>Якутск</td>\n      <td>62.028027</td>\n      <td>129.732572</td>\n      <td>Дальневосточный</td>\n      <td>269486</td>\n      <td>1</td>\n    </tr>\n    <tr>\n      <th>83</th>\n      <td>АО</td>\n      <td>Ямало-Ненецкий</td>\n      <td>Салехард</td>\n      <td>66.549357</td>\n      <td>66.608399</td>\n      <td>Уральский</td>\n      <td>42494</td>\n      <td>1</td>\n    </tr>\n    <tr>\n      <th>84</th>\n      <td>обл</td>\n      <td>Ярославская</td>\n      <td>Ярославль</td>\n      <td>57.621614</td>\n      <td>39.897878</td>\n      <td>Центральный</td>\n      <td>591486</td>\n      <td>1</td>\n    </tr>\n  </tbody>\n</table>\n<p>85 rows × 8 columns</p>\n</div>"
     },
     "metadata": {},
     "execution_count": 7
    }
   ],
   "source": [
    "df_cities_centres"
   ]
  },
  {
   "cell_type": "markdown",
   "metadata": {},
   "source": [
    "## Дальше матрицы расстояний:"
   ]
  },
  {
   "cell_type": "code",
   "execution_count": 21,
   "metadata": {},
   "outputs": [],
   "source": [
    "# Все города\n",
    "df_locations = df_cities[['lat', 'long']]\n",
    "cities_names = df_cities['city']\n",
    "df_locations.index = cities_names\n",
    "dist_matrix = pd.DataFrame(distance_matrix(df_locations.values, df_locations.values), index=df_locations.index, columns=df_locations.index)\n",
    "\n",
    "# Центры регионов\n",
    "df_locations_centres = df_cities_centres[['lat', 'long']]\n",
    "cities_names_centres = df_cities_centres['reg']\n",
    "df_locations_centres.index = cities_names_centres\n",
    "dist_matrix_centres = pd.DataFrame(distance_matrix(df_locations_centres.values, df_locations_centres.values), index=df_locations_centres.index, columns=df_locations_centres.index)"
   ]
  },
  {
   "cell_type": "code",
   "execution_count": 22,
   "metadata": {},
   "outputs": [
    {
     "output_type": "execute_result",
     "data": {
      "text/plain": "   reg_type                   reg           city        lat        long  \\\n0      Респ                Адыгея         Майкоп  44.609827   40.100653   \n1      Респ                 Алтай  Горно-Алтайск  51.958268   85.960296   \n2      край             Алтайский        Барнаул  53.348115   83.779836   \n3       обл              Амурская   Благовещенск  50.290593  127.527219   \n4       обл         Архангельская    Архангельск  64.539299   40.517008   \n..      ...                   ...            ...        ...         ...   \n80  Чувашия  Чувашская Республика      Чебоксары  56.143938   47.248872   \n81       АО             Чукотский        Анадырь  64.731435  177.501575   \n82     Респ         Саха /Якутия/         Якутск  62.028027  129.732572   \n83       АО        Ямало-Ненецкий       Салехард  66.549357   66.608399   \n84      обл           Ярославская      Ярославль  57.621614   39.897878   \n\n            fed_reg population  is_centre  \n0             Южный     144055          1  \n1         Сибирский      62861          1  \n2         Сибирский     635585          1  \n3   Дальневосточный     214397          1  \n4   Северо-Западный     348716          1  \n..              ...        ...        ...  \n80      Приволжский     447929          1  \n81  Дальневосточный      13053          1  \n82  Дальневосточный     269486          1  \n83        Уральский      42494          1  \n84      Центральный     591486          1  \n\n[85 rows x 8 columns]",
      "text/html": "<div>\n<style scoped>\n    .dataframe tbody tr th:only-of-type {\n        vertical-align: middle;\n    }\n\n    .dataframe tbody tr th {\n        vertical-align: top;\n    }\n\n    .dataframe thead th {\n        text-align: right;\n    }\n</style>\n<table border=\"1\" class=\"dataframe\">\n  <thead>\n    <tr style=\"text-align: right;\">\n      <th></th>\n      <th>reg_type</th>\n      <th>reg</th>\n      <th>city</th>\n      <th>lat</th>\n      <th>long</th>\n      <th>fed_reg</th>\n      <th>population</th>\n      <th>is_centre</th>\n    </tr>\n  </thead>\n  <tbody>\n    <tr>\n      <th>0</th>\n      <td>Респ</td>\n      <td>Адыгея</td>\n      <td>Майкоп</td>\n      <td>44.609827</td>\n      <td>40.100653</td>\n      <td>Южный</td>\n      <td>144055</td>\n      <td>1</td>\n    </tr>\n    <tr>\n      <th>1</th>\n      <td>Респ</td>\n      <td>Алтай</td>\n      <td>Горно-Алтайск</td>\n      <td>51.958268</td>\n      <td>85.960296</td>\n      <td>Сибирский</td>\n      <td>62861</td>\n      <td>1</td>\n    </tr>\n    <tr>\n      <th>2</th>\n      <td>край</td>\n      <td>Алтайский</td>\n      <td>Барнаул</td>\n      <td>53.348115</td>\n      <td>83.779836</td>\n      <td>Сибирский</td>\n      <td>635585</td>\n      <td>1</td>\n    </tr>\n    <tr>\n      <th>3</th>\n      <td>обл</td>\n      <td>Амурская</td>\n      <td>Благовещенск</td>\n      <td>50.290593</td>\n      <td>127.527219</td>\n      <td>Дальневосточный</td>\n      <td>214397</td>\n      <td>1</td>\n    </tr>\n    <tr>\n      <th>4</th>\n      <td>обл</td>\n      <td>Архангельская</td>\n      <td>Архангельск</td>\n      <td>64.539299</td>\n      <td>40.517008</td>\n      <td>Северо-Западный</td>\n      <td>348716</td>\n      <td>1</td>\n    </tr>\n    <tr>\n      <th>...</th>\n      <td>...</td>\n      <td>...</td>\n      <td>...</td>\n      <td>...</td>\n      <td>...</td>\n      <td>...</td>\n      <td>...</td>\n      <td>...</td>\n    </tr>\n    <tr>\n      <th>80</th>\n      <td>Чувашия</td>\n      <td>Чувашская Республика</td>\n      <td>Чебоксары</td>\n      <td>56.143938</td>\n      <td>47.248872</td>\n      <td>Приволжский</td>\n      <td>447929</td>\n      <td>1</td>\n    </tr>\n    <tr>\n      <th>81</th>\n      <td>АО</td>\n      <td>Чукотский</td>\n      <td>Анадырь</td>\n      <td>64.731435</td>\n      <td>177.501575</td>\n      <td>Дальневосточный</td>\n      <td>13053</td>\n      <td>1</td>\n    </tr>\n    <tr>\n      <th>82</th>\n      <td>Респ</td>\n      <td>Саха /Якутия/</td>\n      <td>Якутск</td>\n      <td>62.028027</td>\n      <td>129.732572</td>\n      <td>Дальневосточный</td>\n      <td>269486</td>\n      <td>1</td>\n    </tr>\n    <tr>\n      <th>83</th>\n      <td>АО</td>\n      <td>Ямало-Ненецкий</td>\n      <td>Салехард</td>\n      <td>66.549357</td>\n      <td>66.608399</td>\n      <td>Уральский</td>\n      <td>42494</td>\n      <td>1</td>\n    </tr>\n    <tr>\n      <th>84</th>\n      <td>обл</td>\n      <td>Ярославская</td>\n      <td>Ярославль</td>\n      <td>57.621614</td>\n      <td>39.897878</td>\n      <td>Центральный</td>\n      <td>591486</td>\n      <td>1</td>\n    </tr>\n  </tbody>\n</table>\n<p>85 rows × 8 columns</p>\n</div>"
     },
     "metadata": {},
     "execution_count": 22
    }
   ],
   "source": [
    "df_locations_centres\n",
    "df_cities_centres\n"
   ]
  },
  {
   "cell_type": "markdown",
   "metadata": {},
   "source": [
    "## Матрица расстояний по всем городам:"
   ]
  },
  {
   "cell_type": "code",
   "execution_count": 23,
   "metadata": {},
   "outputs": [
    {
     "output_type": "execute_result",
     "data": {
      "text/plain": "city            Адыгейск     Майкоп  Горно-Алтайск     Алейск    Барнаул  \\\ncity                                                                       \nАдыгейск        0.000000   0.949258      47.302953  44.249190  45.386944   \nМайкоп          0.949258   0.000000      46.444660  43.400539  44.544683   \nГорно-Алтайск  47.302953  46.444660       0.000000   3.225364   2.585745   \nАлейск         44.249190  43.400539       3.225364   0.000000   1.316670   \nБарнаул        45.386944  44.544683       2.585745   1.316670   0.000000   \n...                  ...        ...            ...        ...        ...   \nРыбинск        13.174189  13.495854      47.494041  44.271134  45.166730   \nТутаев         12.993677  13.269581      46.798044  43.575405  44.473232   \nУглич          12.675173  13.037232      47.982023  44.760989  45.669027   \nЯрославль      12.762879  13.013368      46.409264  43.187246  44.089557   \nАдлер           1.610603   1.186882      46.830688  43.813916  44.974062   \n\ncity           Белокуриха      Бийск     Горняк    Заринск  Змеиногорск  ...  \\\ncity                                                                     ...   \nАдыгейск        46.343707  46.656972  42.714764  46.585401    43.453222  ...   \nМайкоп          45.487078  45.804818  41.854024  45.744387    42.592961  ...   \nГорно-Алтайск    0.976992   0.945942   4.597415   2.028366     3.856979  ...   \nАлейск           2.259735   2.434930   1.990505   2.470985     1.459589  ...   \nБарнаул          1.810570   1.646380   3.299269   1.206065     2.707921  ...   \n...                   ...        ...        ...        ...          ...  ...   \nРыбинск         46.521076  46.681752  43.185388  46.277281    43.873357  ...   \nТутаев          45.824906  45.986761  42.486517  45.584959    43.174932  ...   \nУглич           47.008027  47.175814  43.652667  46.785378    44.344356  ...   \nЯрославль       45.435762  45.600107  42.090872  45.203470    42.780472  ...   \nАдлер           45.878097  46.207869  42.235199  46.176426    42.975135  ...   \n\ncity               Любим     Мышкин  Переславль-Залесский  Пошехонье  \\\ncity                                                                   \nАдыгейск       13.566438  12.930752             11.862428  13.628132   \nМайкоп         13.764653  13.280782             12.190099  13.930989   \nГорно-Алтайск  45.723984  47.862397             47.347665  47.294782   \nАлейск         42.499771  44.640406             44.129653  44.070715   \nБарнаул        43.383581  45.542507             45.053094  44.955739   \n...                  ...        ...                   ...        ...   \nРыбинск         1.855317   0.480596              1.312343   0.527929   \nТутаев          1.251959   1.085439              1.321306   0.762302   \nУглич           2.528449   0.306325              0.960937   1.280211   \nЯрославль       1.082034   1.453172              1.368677   1.177392   \nАдлер          14.943971  14.423767             13.339810  15.088866   \n\ncity              Ростов    Рыбинск     Тутаев      Углич  Ярославль  \\\ncity                                                                   \nАдыгейск       12.329134  13.174189  12.993677  12.675173  12.762879   \nМайкоп         12.612619  13.495854  13.269581  13.037232  13.013368   \nГорно-Алтайск  46.817386  47.494041  46.798044  47.982023  46.409264   \nАлейск         43.597066  44.271134  43.575405  44.760989  43.187246   \nБарнаул        44.509423  45.166730  44.473232  45.669027  44.089557   \n...                  ...        ...        ...        ...        ...   \nРыбинск         1.023268   0.000000   0.702202   0.765640   1.123731   \nТутаев          0.669761   0.702202   0.000000   1.282143   0.436787   \nУглич           1.179361   0.765640   1.282143   0.000000   1.598981   \nЯрославль       0.620638   1.123731   0.436787   1.598981   0.000000   \nАдлер          13.774987  14.648100  14.434113  14.175852  14.183455   \n\ncity               Адлер  \ncity                      \nАдыгейск        1.610603  \nМайкоп          1.186882  \nГорно-Алтайск  46.830688  \nАлейск         43.813916  \nБарнаул        44.974062  \n...                  ...  \nРыбинск        14.648100  \nТутаев         14.434113  \nУглич          14.175852  \nЯрославль      14.183455  \nАдлер           0.000000  \n\n[1113 rows x 1113 columns]",
      "text/html": "<div>\n<style scoped>\n    .dataframe tbody tr th:only-of-type {\n        vertical-align: middle;\n    }\n\n    .dataframe tbody tr th {\n        vertical-align: top;\n    }\n\n    .dataframe thead th {\n        text-align: right;\n    }\n</style>\n<table border=\"1\" class=\"dataframe\">\n  <thead>\n    <tr style=\"text-align: right;\">\n      <th>city</th>\n      <th>Адыгейск</th>\n      <th>Майкоп</th>\n      <th>Горно-Алтайск</th>\n      <th>Алейск</th>\n      <th>Барнаул</th>\n      <th>Белокуриха</th>\n      <th>Бийск</th>\n      <th>Горняк</th>\n      <th>Заринск</th>\n      <th>Змеиногорск</th>\n      <th>...</th>\n      <th>Любим</th>\n      <th>Мышкин</th>\n      <th>Переславль-Залесский</th>\n      <th>Пошехонье</th>\n      <th>Ростов</th>\n      <th>Рыбинск</th>\n      <th>Тутаев</th>\n      <th>Углич</th>\n      <th>Ярославль</th>\n      <th>Адлер</th>\n    </tr>\n    <tr>\n      <th>city</th>\n      <th></th>\n      <th></th>\n      <th></th>\n      <th></th>\n      <th></th>\n      <th></th>\n      <th></th>\n      <th></th>\n      <th></th>\n      <th></th>\n      <th></th>\n      <th></th>\n      <th></th>\n      <th></th>\n      <th></th>\n      <th></th>\n      <th></th>\n      <th></th>\n      <th></th>\n      <th></th>\n      <th></th>\n    </tr>\n  </thead>\n  <tbody>\n    <tr>\n      <th>Адыгейск</th>\n      <td>0.000000</td>\n      <td>0.949258</td>\n      <td>47.302953</td>\n      <td>44.249190</td>\n      <td>45.386944</td>\n      <td>46.343707</td>\n      <td>46.656972</td>\n      <td>42.714764</td>\n      <td>46.585401</td>\n      <td>43.453222</td>\n      <td>...</td>\n      <td>13.566438</td>\n      <td>12.930752</td>\n      <td>11.862428</td>\n      <td>13.628132</td>\n      <td>12.329134</td>\n      <td>13.174189</td>\n      <td>12.993677</td>\n      <td>12.675173</td>\n      <td>12.762879</td>\n      <td>1.610603</td>\n    </tr>\n    <tr>\n      <th>Майкоп</th>\n      <td>0.949258</td>\n      <td>0.000000</td>\n      <td>46.444660</td>\n      <td>43.400539</td>\n      <td>44.544683</td>\n      <td>45.487078</td>\n      <td>45.804818</td>\n      <td>41.854024</td>\n      <td>45.744387</td>\n      <td>42.592961</td>\n      <td>...</td>\n      <td>13.764653</td>\n      <td>13.280782</td>\n      <td>12.190099</td>\n      <td>13.930989</td>\n      <td>12.612619</td>\n      <td>13.495854</td>\n      <td>13.269581</td>\n      <td>13.037232</td>\n      <td>13.013368</td>\n      <td>1.186882</td>\n    </tr>\n    <tr>\n      <th>Горно-Алтайск</th>\n      <td>47.302953</td>\n      <td>46.444660</td>\n      <td>0.000000</td>\n      <td>3.225364</td>\n      <td>2.585745</td>\n      <td>0.976992</td>\n      <td>0.945942</td>\n      <td>4.597415</td>\n      <td>2.028366</td>\n      <td>3.856979</td>\n      <td>...</td>\n      <td>45.723984</td>\n      <td>47.862397</td>\n      <td>47.347665</td>\n      <td>47.294782</td>\n      <td>46.817386</td>\n      <td>47.494041</td>\n      <td>46.798044</td>\n      <td>47.982023</td>\n      <td>46.409264</td>\n      <td>46.830688</td>\n    </tr>\n    <tr>\n      <th>Алейск</th>\n      <td>44.249190</td>\n      <td>43.400539</td>\n      <td>3.225364</td>\n      <td>0.000000</td>\n      <td>1.316670</td>\n      <td>2.259735</td>\n      <td>2.434930</td>\n      <td>1.990505</td>\n      <td>2.470985</td>\n      <td>1.459589</td>\n      <td>...</td>\n      <td>42.499771</td>\n      <td>44.640406</td>\n      <td>44.129653</td>\n      <td>44.070715</td>\n      <td>43.597066</td>\n      <td>44.271134</td>\n      <td>43.575405</td>\n      <td>44.760989</td>\n      <td>43.187246</td>\n      <td>43.813916</td>\n    </tr>\n    <tr>\n      <th>Барнаул</th>\n      <td>45.386944</td>\n      <td>44.544683</td>\n      <td>2.585745</td>\n      <td>1.316670</td>\n      <td>0.000000</td>\n      <td>1.810570</td>\n      <td>1.646380</td>\n      <td>3.299269</td>\n      <td>1.206065</td>\n      <td>2.707921</td>\n      <td>...</td>\n      <td>43.383581</td>\n      <td>45.542507</td>\n      <td>45.053094</td>\n      <td>44.955739</td>\n      <td>44.509423</td>\n      <td>45.166730</td>\n      <td>44.473232</td>\n      <td>45.669027</td>\n      <td>44.089557</td>\n      <td>44.974062</td>\n    </tr>\n    <tr>\n      <th>...</th>\n      <td>...</td>\n      <td>...</td>\n      <td>...</td>\n      <td>...</td>\n      <td>...</td>\n      <td>...</td>\n      <td>...</td>\n      <td>...</td>\n      <td>...</td>\n      <td>...</td>\n      <td>...</td>\n      <td>...</td>\n      <td>...</td>\n      <td>...</td>\n      <td>...</td>\n      <td>...</td>\n      <td>...</td>\n      <td>...</td>\n      <td>...</td>\n      <td>...</td>\n      <td>...</td>\n    </tr>\n    <tr>\n      <th>Рыбинск</th>\n      <td>13.174189</td>\n      <td>13.495854</td>\n      <td>47.494041</td>\n      <td>44.271134</td>\n      <td>45.166730</td>\n      <td>46.521076</td>\n      <td>46.681752</td>\n      <td>43.185388</td>\n      <td>46.277281</td>\n      <td>43.873357</td>\n      <td>...</td>\n      <td>1.855317</td>\n      <td>0.480596</td>\n      <td>1.312343</td>\n      <td>0.527929</td>\n      <td>1.023268</td>\n      <td>0.000000</td>\n      <td>0.702202</td>\n      <td>0.765640</td>\n      <td>1.123731</td>\n      <td>14.648100</td>\n    </tr>\n    <tr>\n      <th>Тутаев</th>\n      <td>12.993677</td>\n      <td>13.269581</td>\n      <td>46.798044</td>\n      <td>43.575405</td>\n      <td>44.473232</td>\n      <td>45.824906</td>\n      <td>45.986761</td>\n      <td>42.486517</td>\n      <td>45.584959</td>\n      <td>43.174932</td>\n      <td>...</td>\n      <td>1.251959</td>\n      <td>1.085439</td>\n      <td>1.321306</td>\n      <td>0.762302</td>\n      <td>0.669761</td>\n      <td>0.702202</td>\n      <td>0.000000</td>\n      <td>1.282143</td>\n      <td>0.436787</td>\n      <td>14.434113</td>\n    </tr>\n    <tr>\n      <th>Углич</th>\n      <td>12.675173</td>\n      <td>13.037232</td>\n      <td>47.982023</td>\n      <td>44.760989</td>\n      <td>45.669027</td>\n      <td>47.008027</td>\n      <td>47.175814</td>\n      <td>43.652667</td>\n      <td>46.785378</td>\n      <td>44.344356</td>\n      <td>...</td>\n      <td>2.528449</td>\n      <td>0.306325</td>\n      <td>0.960937</td>\n      <td>1.280211</td>\n      <td>1.179361</td>\n      <td>0.765640</td>\n      <td>1.282143</td>\n      <td>0.000000</td>\n      <td>1.598981</td>\n      <td>14.175852</td>\n    </tr>\n    <tr>\n      <th>Ярославль</th>\n      <td>12.762879</td>\n      <td>13.013368</td>\n      <td>46.409264</td>\n      <td>43.187246</td>\n      <td>44.089557</td>\n      <td>45.435762</td>\n      <td>45.600107</td>\n      <td>42.090872</td>\n      <td>45.203470</td>\n      <td>42.780472</td>\n      <td>...</td>\n      <td>1.082034</td>\n      <td>1.453172</td>\n      <td>1.368677</td>\n      <td>1.177392</td>\n      <td>0.620638</td>\n      <td>1.123731</td>\n      <td>0.436787</td>\n      <td>1.598981</td>\n      <td>0.000000</td>\n      <td>14.183455</td>\n    </tr>\n    <tr>\n      <th>Адлер</th>\n      <td>1.610603</td>\n      <td>1.186882</td>\n      <td>46.830688</td>\n      <td>43.813916</td>\n      <td>44.974062</td>\n      <td>45.878097</td>\n      <td>46.207869</td>\n      <td>42.235199</td>\n      <td>46.176426</td>\n      <td>42.975135</td>\n      <td>...</td>\n      <td>14.943971</td>\n      <td>14.423767</td>\n      <td>13.339810</td>\n      <td>15.088866</td>\n      <td>13.774987</td>\n      <td>14.648100</td>\n      <td>14.434113</td>\n      <td>14.175852</td>\n      <td>14.183455</td>\n      <td>0.000000</td>\n    </tr>\n  </tbody>\n</table>\n<p>1113 rows × 1113 columns</p>\n</div>"
     },
     "metadata": {},
     "execution_count": 23
    }
   ],
   "source": [
    "dist_matrix"
   ]
  },
  {
   "cell_type": "markdown",
   "metadata": {},
   "source": [
    "## Матрица расстояний только по региональным центрам:"
   ]
  },
  {
   "cell_type": "code",
   "execution_count": 25,
   "metadata": {},
   "outputs": [],
   "source": [
    "dist_matrix_centres"
   ]
  },
  {
   "cell_type": "code",
   "execution_count": null,
   "metadata": {},
   "outputs": [],
   "source": [
    "dist_matrix_centres.to_csv('./raw_distances_matrix.csv')"
   ]
  },
  {
   "cell_type": "markdown",
   "metadata": {},
   "source": [
    "# Тутушный датасет:"
   ]
  },
  {
   "cell_type": "code",
   "execution_count": 11,
   "metadata": {},
   "outputs": [],
   "source": [
    "tutu = pd.read_csv('result_export.created_2020-03-17_13-46.csv')\n",
    "# Сразу заменяем названия городов которые не бьются\n",
    "tutu = tutu.replace(['Симферополь (Крым)', 'Ростов Великий', 'Новгород Великий', 'Зеленогорск (ЗАТО)', 'Вышний Волочёк', 'Фокино (ЗАТО)', 'Пикалёво', 'Большой Камень (ЗАТО)', 'Семёнов', 'Пугачёв', 'Озёры', 'Артёмовский', 'Олёкминск', 'Очёр', 'Озёрск', 'Трёхгорный', 'Чёрмоз', 'Артёмовск', 'Гусиноозёрск', 'Ербогачён', 'Артём', 'Заозёрный', 'Плёс', 'Жигулёвск', 'Новохопёрск', 'Будённовск', 'Киселёвск'], ['Симферополь', 'Ростов', 'Великий Новгород', 'Зеленогорск', 'Вышний Волочек', 'Фокино', 'Пикалево', 'Большой Камень', 'Семенов', 'Пугачев', 'Озеры', 'Артемовский', 'Олекминск', 'Очер', 'Озерск', 'Трехгорный', 'Чермоз', 'Артемовск', 'Гусиноозерск', 'Ербогачен', 'Артем', 'Заозерный', 'Плес', 'Жигулевск', 'Новохоперск', 'Буденновск', 'Киселевск'])"
   ]
  },
  {
   "cell_type": "code",
   "execution_count": 12,
   "metadata": {},
   "outputs": [],
   "source": [
    "tutu_cities = set(list(tutu.arrival.values) + list(tutu.departure.values))"
   ]
  },
  {
   "cell_type": "markdown",
   "metadata": {},
   "source": [
    "## Города которые есть в датасете туту но нет в df_cities:"
   ]
  },
  {
   "cell_type": "code",
   "execution_count": 13,
   "metadata": {
    "tags": []
   },
   "outputs": [
    {
     "output_type": "stream",
     "name": "stdout",
     "text": "['Омсукчан', 'Верхневилюйск', 'Калевала', 'Черский', 'Синяя Осока', 'Сонково', 'Светлогорск (Красноярск.)', 'Дмитриев-Льговский', 'Тура', 'Мотыгино', 'Чокурдах', 'Псебай', 'Кепервеем', 'Жиганск', 'Эвенск', 'Карагайский', 'Усть-Нера', 'Известковый', 'Лазаревское', 'Салми', 'Каргасок', 'Аян', 'Омолон', 'Таксимо', 'Железнодорожный', 'Саккырыр', 'Оленёк', 'Диксон', 'Пряжа', 'Толька', 'Ноглики', 'Славянка', 'Максатиха', 'Красный Чикой', 'Чумикан', 'Усть-Куйга', 'Хатанга', 'Маркс ', 'Чернолучье', 'Ванавара', 'Чара', 'Сычёвка', 'Хотынец', 'Павелец', 'Ожерелье', 'Манжерок', 'Дагомыс', 'Пржевальское', 'Южно-Курильск', 'Ванино', 'Кугеси', 'Сеймчан', 'Усть-Качка', 'Забайкальск', 'Казачинское', 'Охотск', 'Хандыга', 'Колпино', 'Иловля', 'Шахтерск', 'Депутатский', 'Пено', 'Кослан', 'Саскылах', 'Нижнеангарск', 'Озеро-Карачинское', 'Тикси', 'Берёзово', 'Туруханск', 'Усть-Кокса', 'Чемал', 'Сандово', 'Артышта', 'Павловская', 'Ербогачен', 'Черноморское', 'Староминская', 'Байкит', 'Лоо', 'Крутинка', 'Северо-Енисейский', 'Изборск', 'Новоабзаково', 'Мама', 'Багдарин', 'Усть-Цильма', 'Талакан', 'Богородское', 'Хонуу', 'Залахтовье', 'Сунтар', 'Бежаницы', 'Зырянка', 'Тимашёвск', 'Новомихайловский', 'Кавалерово', 'Берёзовый', 'Белая Гора', 'Симеиз', 'Шушенское', 'Батагай', 'Приобье', 'Игрим', 'Хоста'] \n\n 104\n"
    }
   ],
   "source": [
    "lst = []\n",
    "for c in tutu_cities:\n",
    "    if c not in set(df_cities.city):\n",
    "        lst.append(c)\n",
    "print(lst, '\\n\\n', len(lst))"
   ]
  },
  {
   "cell_type": "markdown",
   "metadata": {},
   "source": [
    "## Сортировка записей с не попавшими в наш датасет городами по количеству пассажиров"
   ]
  },
  {
   "cell_type": "code",
   "execution_count": 14,
   "metadata": {},
   "outputs": [
    {
     "output_type": "execute_result",
     "data": {
      "text/plain": "      transport        departure       arrival  passengers\n3352        bus       Красноярск      Мотыгино       17792\n3409        bus            Тверь     Максатиха       16303\n3486        bus  Санкт-Петербург      Бежаницы       12840\n3530        bus  Санкт-Петербург         Салми       12006\n3651        bus  Санкт-Петербург       Сандово        9236\n...         ...              ...           ...         ...\n16838     train        Мичуринск         Хоста          13\n14273     train          Таксимо      Нерюнгри          13\n16881     train            Хоста       Россошь          12\n14121     train         Слюдянка   Забайкальск          12\n14568     train         Бежаницы  Петрозаводск          12\n\n[828 rows x 4 columns]",
      "text/html": "<div>\n<style scoped>\n    .dataframe tbody tr th:only-of-type {\n        vertical-align: middle;\n    }\n\n    .dataframe tbody tr th {\n        vertical-align: top;\n    }\n\n    .dataframe thead th {\n        text-align: right;\n    }\n</style>\n<table border=\"1\" class=\"dataframe\">\n  <thead>\n    <tr style=\"text-align: right;\">\n      <th></th>\n      <th>transport</th>\n      <th>departure</th>\n      <th>arrival</th>\n      <th>passengers</th>\n    </tr>\n  </thead>\n  <tbody>\n    <tr>\n      <th>3352</th>\n      <td>bus</td>\n      <td>Красноярск</td>\n      <td>Мотыгино</td>\n      <td>17792</td>\n    </tr>\n    <tr>\n      <th>3409</th>\n      <td>bus</td>\n      <td>Тверь</td>\n      <td>Максатиха</td>\n      <td>16303</td>\n    </tr>\n    <tr>\n      <th>3486</th>\n      <td>bus</td>\n      <td>Санкт-Петербург</td>\n      <td>Бежаницы</td>\n      <td>12840</td>\n    </tr>\n    <tr>\n      <th>3530</th>\n      <td>bus</td>\n      <td>Санкт-Петербург</td>\n      <td>Салми</td>\n      <td>12006</td>\n    </tr>\n    <tr>\n      <th>3651</th>\n      <td>bus</td>\n      <td>Санкт-Петербург</td>\n      <td>Сандово</td>\n      <td>9236</td>\n    </tr>\n    <tr>\n      <th>...</th>\n      <td>...</td>\n      <td>...</td>\n      <td>...</td>\n      <td>...</td>\n    </tr>\n    <tr>\n      <th>16838</th>\n      <td>train</td>\n      <td>Мичуринск</td>\n      <td>Хоста</td>\n      <td>13</td>\n    </tr>\n    <tr>\n      <th>14273</th>\n      <td>train</td>\n      <td>Таксимо</td>\n      <td>Нерюнгри</td>\n      <td>13</td>\n    </tr>\n    <tr>\n      <th>16881</th>\n      <td>train</td>\n      <td>Хоста</td>\n      <td>Россошь</td>\n      <td>12</td>\n    </tr>\n    <tr>\n      <th>14121</th>\n      <td>train</td>\n      <td>Слюдянка</td>\n      <td>Забайкальск</td>\n      <td>12</td>\n    </tr>\n    <tr>\n      <th>14568</th>\n      <td>train</td>\n      <td>Бежаницы</td>\n      <td>Петрозаводск</td>\n      <td>12</td>\n    </tr>\n  </tbody>\n</table>\n<p>828 rows × 4 columns</p>\n</div>"
     },
     "metadata": {},
     "execution_count": 14
    }
   ],
   "source": [
    "tutu[tutu.departure.isin(lst) | tutu.arrival.isin(lst)].sort_values(by='passengers', ascending=False)"
   ]
  },
  {
   "cell_type": "code",
   "execution_count": 15,
   "metadata": {},
   "outputs": [],
   "source": [
    "cols = ['city','reg','reg_type']\n",
    "tutu_1=pd.merge(\n",
    "    tutu, \n",
    "    df_cities[cols].rename(columns={x:x+'_departure' for x in cols}), \n",
    "    left_on='departure',\n",
    "    right_on='city_departure', \n",
    "    how='left'\n",
    ")\n",
    "tutu_1=pd.merge(\n",
    "    tutu_1, \n",
    "    df_cities[cols].rename(columns={x:x+'_arrival' for x in cols}), \n",
    "    left_on='arrival',\n",
    "    right_on='city_arrival', \n",
    "    how='left'\n",
    ")\n",
    "agg_travel = tutu_1.groupby(['reg_departure','reg_arrival','transport'])['passengers'].sum().reset_index().pivot_table(index=['reg_departure','reg_arrival'], columns=['transport'],values='passengers').fillna(0).reset_index()\n",
    "agg_travel['total_travel'] = agg_travel.loc[:,['avia','bus','train']].sum(axis=1)\n",
    "\n",
    "\n",
    "reg_populations = pd.read_excel('./region_populations1.xlsx').groupby('Регион').sum()\n",
    "agg_travel=agg_travel.join(\n",
    "    reg_populations, on='reg_departure').rename(columns={'Все 2020':'population_departure'}\n",
    "    ).join(\n",
    "    reg_populations, on='reg_arrival').rename(columns={'Все 2020':'population_arrival'})\n",
    "\n",
    "agg_travel['outward_frac'] = agg_travel['total_travel']/agg_travel['population_departure']\n",
    "\n"
   ]
  },
  {
   "cell_type": "code",
   "execution_count": 16,
   "metadata": {},
   "outputs": [],
   "source": [
    "relative_travel_matrix = agg_travel.pivot(index='reg_departure',columns='reg_arrival',values='outward_frac').fillna(0)\n",
    "absolute_travel_matrix = agg_travel.pivot(index='reg_departure',columns='reg_arrival',values='total_travel').fillna(0)\n",
    "# relative_travel_matrix.to_csv('./relative_travel_matrix.csv')\n",
    "# absolute_travel_matrix.to_csv('./absolute_travel_matrix.csv')\n",
    "\n"
   ]
  },
  {
   "cell_type": "code",
   "execution_count": null,
   "metadata": {},
   "outputs": [],
   "source": []
  },
  {
   "cell_type": "code",
   "execution_count": null,
   "metadata": {},
   "outputs": [],
   "source": []
  },
  {
   "cell_type": "code",
   "execution_count": null,
   "metadata": {},
   "outputs": [],
   "source": []
  },
  {
   "cell_type": "code",
   "execution_count": null,
   "metadata": {},
   "outputs": [],
   "source": []
  },
  {
   "cell_type": "code",
   "execution_count": null,
   "metadata": {},
   "outputs": [],
   "source": []
  },
  {
   "cell_type": "code",
   "execution_count": null,
   "metadata": {},
   "outputs": [],
   "source": []
  }
 ],
 "metadata": {
  "kernelspec": {
   "display_name": "Python 3",
   "language": "python",
   "name": "python3"
  },
  "language_info": {
   "codemirror_mode": {
    "name": "ipython",
    "version": 3
   },
   "file_extension": ".py",
   "mimetype": "text/x-python",
   "name": "python",
   "nbconvert_exporter": "python",
   "pygments_lexer": "ipython3",
   "version": "3.6.7-final"
  }
 },
 "nbformat": 4,
 "nbformat_minor": 4
}